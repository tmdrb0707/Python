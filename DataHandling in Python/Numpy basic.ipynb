{
 "cells": [
  {
   "cell_type": "markdown",
   "metadata": {},
   "source": [
    "## 배열"
   ]
  },
  {
   "cell_type": "code",
   "execution_count": 1,
   "metadata": {},
   "outputs": [
    {
     "data": {
      "text/plain": [
       "array([1, 2, 3, 4, 5])"
      ]
     },
     "execution_count": 1,
     "metadata": {},
     "output_type": "execute_result"
    }
   ],
   "source": [
    "import numpy as np\n",
    "\n",
    "# 배열 생성\n",
    "arr1 = np.array([1,2,3,4,5])\n",
    "arr1"
   ]
  },
  {
   "cell_type": "code",
   "execution_count": 2,
   "metadata": {},
   "outputs": [
    {
     "data": {
      "text/plain": [
       "array([ 6,  7,  8,  9, 10])"
      ]
     },
     "execution_count": 2,
     "metadata": {},
     "output_type": "execute_result"
    }
   ],
   "source": [
    "# 리스트를 배열로 변환\n",
    "data_list = [6,7,8,9,10]\n",
    "np.array(data_list)"
   ]
  },
  {
   "cell_type": "code",
   "execution_count": 3,
   "metadata": {},
   "outputs": [
    {
     "data": {
      "text/plain": [
       "array([[ 1,  2,  3,  4,  5],\n",
       "       [ 6,  7,  8,  9, 10]])"
      ]
     },
     "execution_count": 3,
     "metadata": {},
     "output_type": "execute_result"
    }
   ],
   "source": [
    "# 여러개의 리스트를 배열로 변환\n",
    "data_list = [[1,2,3,4,5],[6,7,8,9,10]]\n",
    "arr2 = np.array(data_list)\n",
    "arr2"
   ]
  },
  {
   "cell_type": "code",
   "execution_count": 4,
   "metadata": {},
   "outputs": [
    {
     "data": {
      "text/plain": [
       "(2, 5)"
      ]
     },
     "execution_count": 4,
     "metadata": {},
     "output_type": "execute_result"
    }
   ],
   "source": [
    "# array 차원 확인\n",
    "arr2.shape"
   ]
  },
  {
   "cell_type": "code",
   "execution_count": 5,
   "metadata": {},
   "outputs": [
    {
     "data": {
      "text/plain": [
       "numpy.ndarray"
      ]
     },
     "execution_count": 5,
     "metadata": {},
     "output_type": "execute_result"
    }
   ],
   "source": [
    "# asarry()를 이용하여 배열 만들기\n",
    "\n",
    "a = [1,2,3,4,5] # list\n",
    "a = np.asarray(a) # array\n",
    "\n",
    "type(a)"
   ]
  },
  {
   "cell_type": "markdown",
   "metadata": {},
   "source": [
    "* array와 asarry의 차이점 : copy 옵션의 초기값이 다름. array는 복사본, asarray는 참조본(전체 뷰) 생성"
   ]
  },
  {
   "cell_type": "code",
   "execution_count": 6,
   "metadata": {},
   "outputs": [
    {
     "data": {
      "text/plain": [
       "array([0., 0., 0., 0., 0.])"
      ]
     },
     "execution_count": 6,
     "metadata": {},
     "output_type": "execute_result"
    }
   ],
   "source": [
    "# np.zeros, np.ones, np.empty\n",
    "\n",
    "np.zeros(5)"
   ]
  },
  {
   "cell_type": "code",
   "execution_count": 7,
   "metadata": {},
   "outputs": [
    {
     "data": {
      "text/plain": [
       "array([1., 1., 1., 1., 1.])"
      ]
     },
     "execution_count": 7,
     "metadata": {},
     "output_type": "execute_result"
    }
   ],
   "source": [
    "np.ones(5)"
   ]
  },
  {
   "cell_type": "code",
   "execution_count": 8,
   "metadata": {},
   "outputs": [
    {
     "data": {
      "text/plain": [
       "array([1., 1., 1., 1., 1.])"
      ]
     },
     "execution_count": 8,
     "metadata": {},
     "output_type": "execute_result"
    }
   ],
   "source": [
    "np.empty(5)"
   ]
  },
  {
   "cell_type": "code",
   "execution_count": 9,
   "metadata": {},
   "outputs": [
    {
     "data": {
      "text/plain": [
       "array([[0., 0., 0., 0., 0.],\n",
       "       [0., 0., 0., 0., 0.]])"
      ]
     },
     "execution_count": 9,
     "metadata": {},
     "output_type": "execute_result"
    }
   ],
   "source": [
    "np.zeros((2,5))"
   ]
  },
  {
   "cell_type": "code",
   "execution_count": 10,
   "metadata": {},
   "outputs": [
    {
     "data": {
      "text/plain": [
       "array([[1., 1., 1., 1., 1.],\n",
       "       [1., 1., 1., 1., 1.]])"
      ]
     },
     "execution_count": 10,
     "metadata": {},
     "output_type": "execute_result"
    }
   ],
   "source": [
    "np.ones((2,5))"
   ]
  },
  {
   "cell_type": "code",
   "execution_count": 11,
   "metadata": {},
   "outputs": [
    {
     "data": {
      "text/plain": [
       "array([[1., 1., 1., 1., 1.],\n",
       "       [1., 1., 1., 1., 1.]])"
      ]
     },
     "execution_count": 11,
     "metadata": {},
     "output_type": "execute_result"
    }
   ],
   "source": [
    "np.empty((2,5))"
   ]
  },
  {
   "cell_type": "code",
   "execution_count": 12,
   "metadata": {},
   "outputs": [
    {
     "data": {
      "text/plain": [
       "array([0, 1, 2, 3, 4, 5, 6, 7, 8, 9])"
      ]
     },
     "execution_count": 12,
     "metadata": {},
     "output_type": "execute_result"
    }
   ],
   "source": [
    "# 순차적인 정수 배열값 만들기\n",
    "f = np.arange(10)\n",
    "f"
   ]
  },
  {
   "cell_type": "code",
   "execution_count": 13,
   "metadata": {},
   "outputs": [
    {
     "data": {
      "text/plain": [
       "array([[0, 1, 2, 3, 4],\n",
       "       [5, 6, 7, 8, 9]])"
      ]
     },
     "execution_count": 13,
     "metadata": {},
     "output_type": "execute_result"
    }
   ],
   "source": [
    "# 배열 차원 변경하기\n",
    "f = f.reshape(2,5)\n",
    "f"
   ]
  },
  {
   "cell_type": "code",
   "execution_count": 14,
   "metadata": {},
   "outputs": [
    {
     "data": {
      "text/plain": [
       "array([[1., 0., 0., 0., 0.],\n",
       "       [0., 1., 0., 0., 0.],\n",
       "       [0., 0., 1., 0., 0.],\n",
       "       [0., 0., 0., 1., 0.],\n",
       "       [0., 0., 0., 0., 1.]])"
      ]
     },
     "execution_count": 14,
     "metadata": {},
     "output_type": "execute_result"
    }
   ],
   "source": [
    "# 항등행렬 만들기\n",
    "\n",
    "np.identity(5)"
   ]
  },
  {
   "cell_type": "code",
   "execution_count": 83,
   "metadata": {},
   "outputs": [
    {
     "data": {
      "text/plain": [
       "array([0, 1, 2])"
      ]
     },
     "execution_count": 83,
     "metadata": {},
     "output_type": "execute_result"
    }
   ],
   "source": [
    "# 배열 선택하기\n",
    "\n",
    "a = np.arange(10)\n",
    "a[0:3]"
   ]
  },
  {
   "cell_type": "code",
   "execution_count": 90,
   "metadata": {},
   "outputs": [
    {
     "data": {
      "text/plain": [
       "array([ 0.,  1.,  2.,  3.,  4., nan, nan, nan, nan, nan])"
      ]
     },
     "execution_count": 90,
     "metadata": {},
     "output_type": "execute_result"
    }
   ],
   "source": [
    "# 조건에 따라 배열 값 변경하기()\n",
    "\n",
    "a = np.arange(10)\n",
    "np.where(a>a.mean(), np.nan, a)"
   ]
  },
  {
   "cell_type": "markdown",
   "metadata": {},
   "source": [
    "numpy 배열에서 indexing, slicing은 copy가 아니라 view이다. 따라서 view를 수정하면 원래의 배열도 함께 수정이 된다."
   ]
  },
  {
   "cell_type": "code",
   "execution_count": 20,
   "metadata": {},
   "outputs": [
    {
     "data": {
      "text/plain": [
       "array([10, 10, 10,  3,  4,  5,  6,  7,  8,  9])"
      ]
     },
     "execution_count": 20,
     "metadata": {},
     "output_type": "execute_result"
    }
   ],
   "source": [
    "b = np.arange(10)\n",
    "b_idx = b[0:5]\n",
    "b_idx[0:3] =  10\n",
    "b"
   ]
  },
  {
   "cell_type": "markdown",
   "metadata": {},
   "source": [
    "b_idx를 수정했는데 객체 b도 수정이 되었음을 확인할 수 있다.  \n",
    "indexing 후에 얻은 배열을 Veiw가 아닌 copy를 하고 싶다면 copy()를 뒤에 붙여준다."
   ]
  },
  {
   "cell_type": "code",
   "execution_count": 22,
   "metadata": {},
   "outputs": [
    {
     "data": {
      "text/plain": [
       "array([0, 1, 2, 3, 4, 5, 6, 7, 8, 9])"
      ]
     },
     "execution_count": 22,
     "metadata": {},
     "output_type": "execute_result"
    }
   ],
   "source": [
    "c = np.arange(10)\n",
    "c_idx = c[0:5].copy()\n",
    "c_idx[0:3] = 10\n",
    "c"
   ]
  },
  {
   "cell_type": "markdown",
   "metadata": {},
   "source": [
    "이러한 규칙은 배열 뿐만아니라 데이터프레임에도 적용되니 참고."
   ]
  },
  {
   "cell_type": "markdown",
   "metadata": {},
   "source": [
    "## Random Sampling"
   ]
  },
  {
   "cell_type": "code",
   "execution_count": 15,
   "metadata": {},
   "outputs": [],
   "source": [
    "# Seed 설정\n",
    "\n",
    "np.random.seed(seed = 100)"
   ]
  },
  {
   "cell_type": "markdown",
   "metadata": {},
   "source": [
    "난수 생성을 할때마다 값이 달라지게 되는데, 이를 방지하고 싶다면 seed번호를 지정"
   ]
  },
  {
   "cell_type": "code",
   "execution_count": 16,
   "metadata": {},
   "outputs": [
    {
     "data": {
      "text/plain": [
       "array([-1.74976547,  0.3426804 ,  1.1530358 , -0.25243604,  0.98132079])"
      ]
     },
     "execution_count": 16,
     "metadata": {},
     "output_type": "execute_result"
    }
   ],
   "source": [
    "import numpy as np\n",
    "\n",
    "np.random.normal(size = 5)"
   ]
  },
  {
   "cell_type": "code",
   "execution_count": 17,
   "metadata": {},
   "outputs": [
    {
     "data": {
      "text/plain": [
       "array([[ 0.51421884,  0.22117967, -1.07004333, -0.18949583],\n",
       "       [ 0.25500144, -0.45802699,  0.43516349, -0.58359505],\n",
       "       [ 0.81684707,  0.67272081, -0.10441114, -0.53128038]])"
      ]
     },
     "execution_count": 17,
     "metadata": {},
     "output_type": "execute_result"
    }
   ],
   "source": [
    "# 다차원 배열로 생성\n",
    "\n",
    "np.random.normal(size = (3,4))"
   ]
  },
  {
   "cell_type": "code",
   "execution_count": 18,
   "metadata": {},
   "outputs": [
    {
     "data": {
      "text/plain": [
       "array([[[ 1.02973269, -0.43813562, -1.11831825,  1.61898166],\n",
       "        [ 1.54160517, -0.25187914, -0.84243574,  0.18451869],\n",
       "        [ 0.9370822 ,  0.73100034,  1.36155613, -0.32623806]],\n",
       "\n",
       "       [[ 0.05567601,  0.22239961, -1.443217  , -0.75635231],\n",
       "        [ 0.81645401,  0.75044476, -0.45594693,  1.18962227],\n",
       "        [-1.69061683, -1.35639905, -1.23243451, -0.54443916]]])"
      ]
     },
     "execution_count": 18,
     "metadata": {},
     "output_type": "execute_result"
    }
   ],
   "source": [
    "np.random.normal(size = (2,3,4))"
   ]
  },
  {
   "cell_type": "code",
   "execution_count": 19,
   "metadata": {},
   "outputs": [
    {
     "data": {
      "text/plain": [
       "array([0, 1, 1, 1, 1, 0, 2, 3, 1, 1, 1, 0, 0, 0, 0, 3, 3, 1, 1, 1, 0, 1,\n",
       "       1, 0, 1, 3, 1, 1, 2, 2])"
      ]
     },
     "execution_count": 19,
     "metadata": {},
     "output_type": "execute_result"
    }
   ],
   "source": [
    "# 이항분포 생성\n",
    "\n",
    "np.random.binomial(n = 5, p = 0.2, size = 30)"
   ]
  },
  {
   "cell_type": "code",
   "execution_count": 20,
   "metadata": {},
   "outputs": [
    {
     "data": {
      "text/plain": [
       "array([0, 0, 1, 2, 2, 1, 0, 0, 1, 1, 2, 2, 0, 0, 0, 1, 0, 2, 2, 1, 2, 2,\n",
       "       0, 3, 1, 1, 0, 2, 2, 0, 0, 2, 1, 3, 0, 1, 2, 1, 1, 1, 1, 2, 1, 0,\n",
       "       1, 1, 0, 1, 2, 1, 1, 2, 1, 1, 2, 1, 2, 0, 1, 0, 0, 0, 1, 0, 1, 2,\n",
       "       1, 1, 1, 1, 0, 1, 2, 1, 1, 0, 1, 2, 1, 2, 2, 0, 0, 0, 1, 2, 1, 0,\n",
       "       1, 0, 0, 1, 1, 1, 0, 0, 1, 1, 0, 2])"
      ]
     },
     "execution_count": 20,
     "metadata": {},
     "output_type": "execute_result"
    }
   ],
   "source": [
    "# 초기하분포 생성\n",
    "\n",
    "random_hyp = np.random.hypergeometric(ngood = 5, nbad = 20, nsample = 5, size = 100)\n",
    "random_hyp"
   ]
  },
  {
   "cell_type": "code",
   "execution_count": 21,
   "metadata": {
    "scrolled": true
   },
   "outputs": [
    {
     "data": {
      "text/plain": [
       "array([[ 0, 31],\n",
       "       [ 1, 43],\n",
       "       [ 2, 24],\n",
       "       [ 3,  2]], dtype=int64)"
      ]
     },
     "execution_count": 21,
     "metadata": {},
     "output_type": "execute_result"
    }
   ],
   "source": [
    "unique, counts = np.unique(random_hyp, return_counts = True)\n",
    "np.asarray((unique, counts)).T"
   ]
  },
  {
   "cell_type": "code",
   "execution_count": 22,
   "metadata": {},
   "outputs": [
    {
     "data": {
      "text/plain": [
       "<Container object of 4 artists>"
      ]
     },
     "execution_count": 22,
     "metadata": {},
     "output_type": "execute_result"
    },
    {
     "data": {
      "image/png": "[encoded data removed]",
      "text/plain": [
       "<matplotlib.figure.Figure at 0x20d9744c0b8>"
      ]
     },
     "metadata": {},
     "output_type": "display_data"
    }
   ],
   "source": [
    "import matplotlib.pyplot as plt\n",
    "\n",
    "%matplotlib inline\n",
    "\n",
    "plt.bar(unique, counts, width = 0.5, align = 'center')"
   ]
  },
  {
   "cell_type": "code",
   "execution_count": 23,
   "metadata": {},
   "outputs": [
    {
     "data": {
      "text/plain": [
       "array([2, 1, 0, 1, 2, 2, 0, 3, 3, 3, 0, 2, 4, 2, 4, 0, 2, 1, 0, 2, 1, 1,\n",
       "       2, 2, 0, 4, 1, 1, 1, 5, 2, 5, 3, 2, 0, 2, 4, 3, 1, 1, 4, 0, 0, 0,\n",
       "       2, 2, 3, 0, 3, 3, 0, 0, 0, 0, 2, 0, 0, 2, 2, 3, 3, 0, 0, 3, 3, 2,\n",
       "       0, 2, 1, 2, 3, 0, 4, 3, 3, 5, 2, 0, 1, 2, 1, 0, 4, 5, 2, 3, 2, 2,\n",
       "       3, 5, 2, 5, 2, 2, 4, 2, 4, 5, 3, 0])"
      ]
     },
     "execution_count": 23,
     "metadata": {},
     "output_type": "execute_result"
    }
   ],
   "source": [
    "# 포아송분포 생성\n",
    "\n",
    "np.random.seed(seed = 1)\n",
    "random_poi = np.random.poisson(lam = 2, size = 100)\n",
    "random_poi"
   ]
  },
  {
   "cell_type": "code",
   "execution_count": 24,
   "metadata": {},
   "outputs": [
    {
     "data": {
      "text/plain": [
       "array([[ 0, 24],\n",
       "       [ 1, 13],\n",
       "       [ 2, 29],\n",
       "       [ 3, 18],\n",
       "       [ 4,  9],\n",
       "       [ 5,  7]], dtype=int64)"
      ]
     },
     "execution_count": 24,
     "metadata": {},
     "output_type": "execute_result"
    }
   ],
   "source": [
    "unique, counts = np.unique(random_poi, return_counts = True)\n",
    "np.array((unique, counts)).T"
   ]
  },
  {
   "cell_type": "code",
   "execution_count": 25,
   "metadata": {},
   "outputs": [
    {
     "data": {
      "text/plain": [
       "<Container object of 6 artists>"
      ]
     },
     "execution_count": 25,
     "metadata": {},
     "output_type": "execute_result"
    },
    {
     "data": {
      "image/png": "[encoded data removed]",
      "text/plain": [
       "<matplotlib.figure.Figure at 0x20d982138d0>"
      ]
     },
     "metadata": {},
     "output_type": "display_data"
    }
   ],
   "source": [
    "plt.bar(unique, counts, width = 0.5, align = 'center')"
   ]
  },
  {
   "cell_type": "code",
   "execution_count": 26,
   "metadata": {},
   "outputs": [
    {
     "data": {
      "text/plain": [
       "array([-0.24929642,  6.02804121,  8.45910741,  4.24269189,  7.94396236,\n",
       "        6.54265652,  5.66353901,  1.78987001,  4.43151251,  5.76500433,\n",
       "        3.62591904,  6.30549046,  3.24921485,  7.45054122,  7.01816242,\n",
       "        4.68676657,  3.40615887,  8.08919806,  3.68559313,  1.64504526,\n",
       "        9.85694498,  9.62481552,  4.24436258,  2.47269279,  5.55355607,\n",
       "        7.8112466 ,  7.19300103,  9.08466838,  4.02128582,  5.16702804,\n",
       "        5.66719883,  0.67034901,  2.73094308,  7.44936203,  7.25133428,\n",
       "        3.63215922,  8.5688668 , -0.07185048,  0.93080285,  1.30269646,\n",
       "        3.36668251,  2.99548479,  5.02194369,  3.16118379,  8.89924422,\n",
       "       -0.19928687,  2.0500697 ,  6.07252326,  0.15926449,  9.4121416 ,\n",
       "        1.43594721,  3.35076142,  2.17986152,  2.51620291,  5.3265904 ,\n",
       "        6.52342877,  2.41331796,  8.74840923,  4.76116626,  2.33080556,\n",
       "        2.35460483,  5.05591685,  5.71353387,  5.04064565,  0.0934118 ,\n",
       "        1.86737037,  6.83911665,  7.20861564,  8.08076432,  0.70342817,\n",
       "       -0.5235649 ,  6.09827968,  4.00466859,  2.93234607, 11.10382268,\n",
       "        3.34785676,  7.25135999,  1.07902298,  6.74172001,  1.68643072,\n",
       "        7.07036441,  7.0606702 ,  0.29993741,  7.71492236,  7.3364672 ,\n",
       "        6.28469861,  5.32661597,  5.0848509 ,  3.26352253,  1.4016464 ,\n",
       "       -0.11785602,  6.10749187, 10.62972028,  3.86928995, 10.49580825,\n",
       "        5.0090523 ,  4.7719296 ,  5.01187278,  4.44495767, -2.46145461])"
      ]
     },
     "execution_count": 26,
     "metadata": {},
     "output_type": "execute_result"
    }
   ],
   "source": [
    "# 정규분포 생성\n",
    "\n",
    "np.random.seed(100)\n",
    "random_normal = np.random.normal(loc = 5, scale = 3, size = 100) # loc : 평균, scale : 분산\n",
    "random_normal"
   ]
  },
  {
   "cell_type": "code",
   "execution_count": 27,
   "metadata": {},
   "outputs": [
    {
     "data": {
      "text/plain": [
       "(array([ 1.,  7.,  8., 13., 16., 17., 13., 14.,  7.,  4.]),\n",
       " array([-2.46145461, -1.10492688,  0.25160085,  1.60812858,  2.96465631,\n",
       "         4.32118404,  5.67771177,  7.0342395 ,  8.39076723,  9.74729496,\n",
       "        11.10382268]),\n",
       " <a list of 10 Patch objects>)"
      ]
     },
     "execution_count": 27,
     "metadata": {},
     "output_type": "execute_result"
    },
    {
     "data": {
      "image/png": "[encoded data removed]",
      "text/plain": [
       "<matplotlib.figure.Figure at 0x20d984a4d68>"
      ]
     },
     "metadata": {},
     "output_type": "display_data"
    }
   ],
   "source": [
    "plt.hist(random_normal, normed = False)"
   ]
  },
  {
   "cell_type": "code",
   "execution_count": 28,
   "metadata": {},
   "outputs": [
    {
     "data": {
      "text/plain": [
       "(array([0.00737176, 0.05160234, 0.0589741 , 0.09583291, 0.1179482 ,\n",
       "        0.12531996, 0.09583291, 0.10320467, 0.05160234, 0.02948705]),\n",
       " array([-2.46145461, -1.10492688,  0.25160085,  1.60812858,  2.96465631,\n",
       "         4.32118404,  5.67771177,  7.0342395 ,  8.39076723,  9.74729496,\n",
       "        11.10382268]),\n",
       " <a list of 10 Patch objects>)"
      ]
     },
     "execution_count": 28,
     "metadata": {},
     "output_type": "execute_result"
    },
    {
     "data": {
      "image/png": "[encoded data removed]",
      "text/plain": [
       "<matplotlib.figure.Figure at 0x20d984d6eb8>"
      ]
     },
     "metadata": {},
     "output_type": "display_data"
    }
   ],
   "source": [
    "plt.hist(random_normal, normed = True)"
   ]
  },
  {
   "cell_type": "code",
   "execution_count": 29,
   "metadata": {},
   "outputs": [
    {
     "data": {
      "text/plain": [
       "array([-3.69400333, -1.03646898,  0.14862805,  0.16338069, -0.95173235,\n",
       "        5.27589849, -2.36637262, -3.57898854, -0.64766916,  0.26223802,\n",
       "       -3.38362558, -0.61047292, -1.48717801,  0.05184164,  0.70276442,\n",
       "       -1.70003852,  2.78291496, -0.33404151,  2.81926603, -5.73671541,\n",
       "        1.38459538, -0.2746975 , -0.01328697, -0.4695529 ,  5.35363903,\n",
       "       -0.16731463,  1.02638299,  1.06853799, -0.0697742 ,  0.15749429])"
      ]
     },
     "execution_count": 29,
     "metadata": {},
     "output_type": "execute_result"
    }
   ],
   "source": [
    "# t-분포 생성\n",
    "\n",
    "random_t = np.random.standard_t(df = 3, size = 30)\n",
    "random_t"
   ]
  },
  {
   "cell_type": "code",
   "execution_count": 30,
   "metadata": {},
   "outputs": [
    {
     "data": {
      "image/png": "[encoded data removed]",
      "text/plain": [
       "<matplotlib.figure.Figure at 0x20d98546390>"
      ]
     },
     "metadata": {},
     "output_type": "display_data"
    }
   ],
   "source": [
    "count, bins ,ignored = plt.hist(random_t, bins = 20)"
   ]
  },
  {
   "cell_type": "code",
   "execution_count": 31,
   "metadata": {},
   "outputs": [
    {
     "data": {
      "text/plain": [
       "array([7.01326514, 0.25171564, 3.20881726, 0.73527062, 0.60884564,\n",
       "       1.11406317, 1.69268908, 6.2768628 , 4.38393095, 8.30903765,\n",
       "       2.3979219 , 1.90052708, 7.11899659, 8.58294925, 5.59055886,\n",
       "       7.04420408, 6.05112036, 5.59217283, 8.60394191, 9.19755359,\n",
       "       8.49607326, 2.54466535, 8.77555542, 4.3513019 , 7.29494344,\n",
       "       4.12640768, 1.90836046, 7.0601952 , 2.40632821, 8.51324427,\n",
       "       8.24102289, 5.25211787, 3.86340794, 5.90880791, 1.37523615,\n",
       "       8.08270408, 9.65825815, 7.79795804, 2.39335082, 8.67260413,\n",
       "       8.08115013, 0.63681124, 2.31228304, 5.89685449, 1.37486948,\n",
       "       6.78440704, 9.9219069 , 2.85751985, 7.6091276 , 0.46527168,\n",
       "       3.32535907, 9.44552791, 6.36517041, 6.01848606, 9.28184681,\n",
       "       1.81679411, 0.17823184, 1.90072176, 5.21871798, 4.95821986,\n",
       "       8.00491206, 8.59436311, 2.12956032, 4.37268841, 4.21617509,\n",
       "       0.54717377, 0.09933694, 7.89765679, 2.75313219, 7.17740005,\n",
       "       4.21355922, 1.43335872, 1.9252168 , 3.13815233, 8.05170167,\n",
       "       0.1262583 , 0.49105973, 5.66000385, 6.86810696, 7.26810905,\n",
       "       4.79693761, 3.67656722, 8.39970099, 4.54163552, 3.21365839,\n",
       "       0.92719867, 0.60437932, 0.90951167, 6.82706456, 6.80735767,\n",
       "       2.43174166, 6.40461442, 0.69139183, 8.72919962, 1.0960695 ,\n",
       "       1.69055765, 4.67377991, 7.75949219, 8.54444516, 2.10386445])"
      ]
     },
     "execution_count": 31,
     "metadata": {},
     "output_type": "execute_result"
    }
   ],
   "source": [
    "# uniform 분포 생성(균등분포)\n",
    "\n",
    "random_uni = np.random.uniform(low = 0, high = 10, size = 100)\n",
    "random_uni"
   ]
  },
  {
   "cell_type": "code",
   "execution_count": 32,
   "metadata": {},
   "outputs": [
    {
     "data": {
      "image/png": "[encoded data removed]",
      "text/plain": [
       "<matplotlib.figure.Figure at 0x20d98645ba8>"
      ]
     },
     "metadata": {},
     "output_type": "display_data"
    }
   ],
   "source": [
    "count, bins, ignored = plt.hist(random_uni, bins = 10)"
   ]
  },
  {
   "cell_type": "code",
   "execution_count": 33,
   "metadata": {},
   "outputs": [
    {
     "data": {
      "text/plain": [
       "array([ 8,  8,  3,  7,  7,  0, 10,  4,  2,  5,  2,  2,  2,  1,  0,  8,  4,\n",
       "       10,  0,  9,  6,  2,  4,  1,  5,  3,  4,  4,  3,  7,  1,  1,  7,  7,\n",
       "        0,  2,  9,  9,  3,  2,  5,  8,  1,  0,  7,  6,  2,  0,  8,  2,  5,\n",
       "       10,  1,  8, 10,  1,  5,  4,  2,  8,  3,  5,  0,  9, 10,  3,  6,  3,\n",
       "        4, 10,  7,  6,  3,  9,  0,  4,  4,  5,  7,  6,  6,  2, 10,  4,  2,\n",
       "        7,  1, 10,  6, 10,  6,  0, 10,  7,  2,  3,  5,  4,  2,  4])"
      ]
     },
     "execution_count": 33,
     "metadata": {},
     "output_type": "execute_result"
    }
   ],
   "source": [
    "# 이산형 균등분포에서 정수형 표본 추출\n",
    "\n",
    "np.random.seed(100)\n",
    "random_int = np.random.randint(low = 0, high = 11, size = 100) # high값은 미포함이므로 10까지 출력\n",
    "random_int"
   ]
  },
  {
   "cell_type": "code",
   "execution_count": 34,
   "metadata": {},
   "outputs": [
    {
     "data": {
      "image/png": "[encoded data removed]",
      "text/plain": [
       "<matplotlib.figure.Figure at 0x20d986b0710>"
      ]
     },
     "metadata": {},
     "output_type": "display_data"
    }
   ],
   "source": [
    "count, bins, ignored = plt.hist(random_int, bins = 10)"
   ]
  },
  {
   "cell_type": "code",
   "execution_count": 35,
   "metadata": {},
   "outputs": [
    {
     "data": {
      "text/plain": [
       "array([ 0.72271733,  1.7019388 , 10.73917118,  2.34384446,  0.59183226,\n",
       "        1.93003437,  0.29185507,  0.74319452,  0.76027478,  4.7121723 ,\n",
       "        0.42511854,  0.07724047,  0.50943662,  1.20238945,  5.64418474,\n",
       "        0.5750116 ,  0.1778188 ,  0.34860587,  0.50850471,  0.7466251 ,\n",
       "        0.35148671,  0.38276935,  2.27828067,  1.79700735,  2.11914309,\n",
       "        0.83604571,  3.13931865,  0.19423221,  0.7391682 ,  1.90953855,\n",
       "        3.35569958,  6.51211828,  0.93747839,  1.0303119 ,  1.48963805,\n",
       "        2.20253586,  0.33429894,  1.81569036,  1.3999182 ,  0.63077069,\n",
       "        1.93317397,  1.5606307 ,  2.53609785,  0.72564186,  0.47606642,\n",
       "        1.23618663,  0.3596148 ,  1.73618413,  1.864435  ,  0.34034817,\n",
       "        0.89002983,  0.61445138,  0.7971368 ,  1.12040276,  0.301083  ,\n",
       "       11.96065326,  0.93371994,  0.99438857,  0.91542025,  1.15977937,\n",
       "        0.88318637,  1.10413488,  0.73745381,  0.41955462,  1.89605539,\n",
       "        1.36992381,  2.37268154,  1.27282472,  0.18693246,  0.8381712 ,\n",
       "        2.04281439,  2.45454657,  2.08631219,  0.91328987,  1.37975736,\n",
       "        2.72715335,  1.54086518,  2.60970119,  3.45379513,  1.08644917,\n",
       "        1.12268326,  7.51912154,  1.40106024,  0.97694626,  0.39471553,\n",
       "        1.00287187,  0.65172484,  1.27232639,  0.24701629,  0.16790245,\n",
       "        0.75173977,  1.01971147,  0.39059421,  1.40672144,  0.39313835,\n",
       "        6.2051757 ,  0.29865948,  2.40001261,  0.38861709,  1.26112776])"
      ]
     },
     "execution_count": 35,
     "metadata": {},
     "output_type": "execute_result"
    }
   ],
   "source": [
    "# F-분포 생성\n",
    "\n",
    "random_f = np.random.f(dfnum = 5, dfden = 10, size = 100)\n",
    "random_f"
   ]
  },
  {
   "cell_type": "code",
   "execution_count": 36,
   "metadata": {},
   "outputs": [
    {
     "data": {
      "image/png": "[encoded data removed]",
      "text/plain": [
       "<matplotlib.figure.Figure at 0x20d98639ba8>"
      ]
     },
     "metadata": {},
     "output_type": "display_data"
    }
   ],
   "source": [
    "count, bins, ignored = plt.hist(random_f, bins = 20)"
   ]
  },
  {
   "cell_type": "code",
   "execution_count": 37,
   "metadata": {},
   "outputs": [
    {
     "data": {
      "text/plain": [
       "array([10.27808583,  5.68460198,  5.0419048 ,  9.2002327 ,  2.60837207,\n",
       "        4.8370739 ,  2.99590397,  3.65282025,  4.49593733,  4.18814898,\n",
       "        3.80014347,  1.42434559,  1.93646752,  3.38513401,  6.29827926,\n",
       "        3.50597415,  2.82676052,  9.31308095,  4.05452876,  5.94439435,\n",
       "        6.37506245,  4.73213873,  4.48663326, 10.8931101 ,  2.60633793,\n",
       "        4.19325029,  6.7462557 ,  4.19144079,  5.46060434,  2.84311293,\n",
       "        6.59932255,  9.22304644,  6.52330634,  3.89170895,  4.9845272 ,\n",
       "        2.87119688,  9.29974329,  1.54115758,  3.64474271,  5.13816344,\n",
       "        4.18657327,  1.0087321 ,  2.26412118,  6.47706213, 10.25085843,\n",
       "        6.64285726,  3.18027672, 10.58872428,  1.31492067,  3.36027093,\n",
       "        8.83450678,  4.39297368,  5.03340167,  4.71284154,  1.93602438,\n",
       "        9.61830798,  5.00734732, 15.31356648,  2.0286806 ,  8.07960267,\n",
       "        1.63666683, 15.87704323,  2.96821626,  9.54594738,  5.46117931,\n",
       "        1.89609427,  5.0581811 ,  3.1131527 ,  2.58961469,  3.64896747,\n",
       "        0.85078766,  7.36162415,  7.62654731,  5.75986651,  5.00139282,\n",
       "        3.78481962,  8.18328822,  5.62483793,  1.60172768,  6.52109701,\n",
       "        4.34609274,  7.02354888,  6.97203757,  2.10045186,  6.03827041,\n",
       "       13.27508963,  2.39592486,  8.68494843,  4.98268311,  8.35791346,\n",
       "        1.55922004, 11.91480633,  3.07597734,  5.33764877,  2.23320629,\n",
       "        0.7959844 ,  4.67589156,  4.40340671,  6.55919251, 11.10512615])"
      ]
     },
     "execution_count": 37,
     "metadata": {},
     "output_type": "execute_result"
    }
   ],
   "source": [
    "# 카이제곱 분포 생성\n",
    "\n",
    "random_chisq = np.random.chisquare(df = 5, size = 100)\n",
    "random_chisq"
   ]
  },
  {
   "cell_type": "code",
   "execution_count": 38,
   "metadata": {},
   "outputs": [
    {
     "data": {
      "image/png": "[encoded data removed]",
      "text/plain": [
       "<matplotlib.figure.Figure at 0x20d98721d68>"
      ]
     },
     "metadata": {},
     "output_type": "display_data"
    }
   ],
   "source": [
    "count, bins, ignored = plt.hist(random_chisq, bins = 20)"
   ]
  },
  {
   "cell_type": "markdown",
   "metadata": {},
   "source": [
    "##  데이터 형변환(convert data type)"
   ]
  },
  {
   "cell_type": "code",
   "execution_count": 39,
   "metadata": {},
   "outputs": [
    {
     "data": {
      "text/plain": [
       "array([1.4 , 2.6 , 3.  , 4.9 , 5.32])"
      ]
     },
     "execution_count": 39,
     "metadata": {},
     "output_type": "execute_result"
    }
   ],
   "source": [
    "x_float64 = np.array([1.4,2.6,3.0,4.9,5.32], dtype = np.float64)\n",
    "x_float64"
   ]
  },
  {
   "cell_type": "code",
   "execution_count": 40,
   "metadata": {},
   "outputs": [
    {
     "data": {
      "text/plain": [
       "dtype('float64')"
      ]
     },
     "execution_count": 40,
     "metadata": {},
     "output_type": "execute_result"
    }
   ],
   "source": [
    "x_float64.dtype"
   ]
  },
  {
   "cell_type": "code",
   "execution_count": 41,
   "metadata": {},
   "outputs": [
    {
     "data": {
      "text/plain": [
       "array([1, 2, 3, 4, 5], dtype=int64)"
      ]
     },
     "execution_count": 41,
     "metadata": {},
     "output_type": "execute_result"
    }
   ],
   "source": [
    "# 데이터 형 변환(object.astype(np.Type))\n",
    "\n",
    "x_float64.astype(np.int64)"
   ]
  },
  {
   "cell_type": "code",
   "execution_count": 42,
   "metadata": {},
   "outputs": [
    {
     "data": {
      "text/plain": [
       "array([1, 2, 3, 4, 5], dtype=int64)"
      ]
     },
     "execution_count": 42,
     "metadata": {},
     "output_type": "execute_result"
    }
   ],
   "source": [
    "np.int64(x_float64)"
   ]
  },
  {
   "cell_type": "code",
   "execution_count": 43,
   "metadata": {},
   "outputs": [
    {
     "data": {
      "text/plain": [
       "array([b'1.4', b'2.6', b'3.0', b'4.9', b'5.32'], dtype='|S32')"
      ]
     },
     "execution_count": 43,
     "metadata": {},
     "output_type": "execute_result"
    }
   ],
   "source": [
    "x_float64.astype(np.string_)"
   ]
  },
  {
   "cell_type": "markdown",
   "metadata": {},
   "source": [
    "##  배열간 연산"
   ]
  },
  {
   "cell_type": "code",
   "execution_count": 50,
   "metadata": {},
   "outputs": [],
   "source": [
    "#배열간 비교 연산\n",
    "x = np.array([1,2,3,4], dtype = np.float64)\n",
    "y = np.array([1,2,2,3], dtype = np.float64)"
   ]
  },
  {
   "cell_type": "code",
   "execution_count": 59,
   "metadata": {},
   "outputs": [
    {
     "data": {
      "text/plain": [
       "array([ True,  True, False, False])"
      ]
     },
     "execution_count": 59,
     "metadata": {},
     "output_type": "execute_result"
    }
   ],
   "source": [
    "# x==y\n",
    "np.equal(x,y)"
   ]
  },
  {
   "cell_type": "code",
   "execution_count": 54,
   "metadata": {},
   "outputs": [
    {
     "data": {
      "text/plain": [
       "array([False, False,  True,  True])"
      ]
     },
     "execution_count": 54,
     "metadata": {},
     "output_type": "execute_result"
    }
   ],
   "source": [
    "# x!=y\n",
    "np.not_equal(x,y)"
   ]
  },
  {
   "cell_type": "code",
   "execution_count": 55,
   "metadata": {},
   "outputs": [
    {
     "data": {
      "text/plain": [
       "array([False, False,  True,  True])"
      ]
     },
     "execution_count": 55,
     "metadata": {},
     "output_type": "execute_result"
    }
   ],
   "source": [
    "# x>y\n",
    "np.greater(x,y)"
   ]
  },
  {
   "cell_type": "code",
   "execution_count": 56,
   "metadata": {},
   "outputs": [
    {
     "data": {
      "text/plain": [
       "array([ True,  True,  True,  True])"
      ]
     },
     "execution_count": 56,
     "metadata": {},
     "output_type": "execute_result"
    }
   ],
   "source": [
    "# x>=y\n",
    "np.greater_equal(x,y)"
   ]
  },
  {
   "cell_type": "code",
   "execution_count": 57,
   "metadata": {},
   "outputs": [
    {
     "data": {
      "text/plain": [
       "array([False, False, False, False])"
      ]
     },
     "execution_count": 57,
     "metadata": {},
     "output_type": "execute_result"
    }
   ],
   "source": [
    "# x<y\n",
    "np.less(x,y)"
   ]
  },
  {
   "cell_type": "code",
   "execution_count": 58,
   "metadata": {},
   "outputs": [
    {
     "data": {
      "text/plain": [
       "array([ True,  True, False, False])"
      ]
     },
     "execution_count": 58,
     "metadata": {},
     "output_type": "execute_result"
    }
   ],
   "source": [
    "# x<=y\n",
    "np.less_equal(x,y)"
   ]
  },
  {
   "cell_type": "code",
   "execution_count": 61,
   "metadata": {},
   "outputs": [],
   "source": [
    "# 배열간 할당 연산\n",
    "\n",
    "m = np.array([1,2,2,3], dtype = np.float64)\n",
    "n = np.array([1,3,3,5], dtype = np.float64)"
   ]
  },
  {
   "cell_type": "code",
   "execution_count": 63,
   "metadata": {},
   "outputs": [
    {
     "data": {
      "text/plain": [
       "array([ 3.,  8.,  8., 13.])"
      ]
     },
     "execution_count": 63,
     "metadata": {},
     "output_type": "execute_result"
    }
   ],
   "source": [
    "# +=\n",
    "\n",
    "m += n # m = m + n\n",
    "m"
   ]
  },
  {
   "cell_type": "code",
   "execution_count": 64,
   "metadata": {},
   "outputs": [
    {
     "data": {
      "text/plain": [
       "array([2., 5., 5., 8.])"
      ]
     },
     "execution_count": 64,
     "metadata": {},
     "output_type": "execute_result"
    }
   ],
   "source": [
    "# -=\n",
    "\n",
    "m -= n # m = m - n\n",
    "m"
   ]
  },
  {
   "cell_type": "code",
   "execution_count": 65,
   "metadata": {},
   "outputs": [
    {
     "data": {
      "text/plain": [
       "array([ 2., 15., 15., 40.])"
      ]
     },
     "execution_count": 65,
     "metadata": {},
     "output_type": "execute_result"
    }
   ],
   "source": [
    "# *=\n",
    "\n",
    "m *= n # m=m*n\n",
    "m"
   ]
  },
  {
   "cell_type": "code",
   "execution_count": 66,
   "metadata": {},
   "outputs": [
    {
     "data": {
      "text/plain": [
       "array([2., 5., 5., 8.])"
      ]
     },
     "execution_count": 66,
     "metadata": {},
     "output_type": "execute_result"
    }
   ],
   "source": [
    "# /=\n",
    "\n",
    "m /= n # m=m/n\n",
    "m"
   ]
  },
  {
   "cell_type": "code",
   "execution_count": 67,
   "metadata": {},
   "outputs": [
    {
     "data": {
      "text/plain": [
       "array([0., 2., 2., 3.])"
      ]
     },
     "execution_count": 67,
     "metadata": {},
     "output_type": "execute_result"
    }
   ],
   "source": [
    "# %=\n",
    "\n",
    "m %= n # m=m%n\n",
    "m"
   ]
  },
  {
   "cell_type": "code",
   "execution_count": 68,
   "metadata": {},
   "outputs": [
    {
     "data": {
      "text/plain": [
       "array([  0.,   8.,   8., 243.])"
      ]
     },
     "execution_count": 68,
     "metadata": {},
     "output_type": "execute_result"
    }
   ],
   "source": [
    "# **=\n",
    "\n",
    "m **= n # m=m**n\n",
    "m"
   ]
  },
  {
   "cell_type": "markdown",
   "metadata": {},
   "source": [
    "##  조건에 만족하는 배열의 열 선택"
   ]
  },
  {
   "cell_type": "code",
   "execution_count": 27,
   "metadata": {},
   "outputs": [
    {
     "data": {
      "text/plain": [
       "array([[ 0,  1,  2,  3],\n",
       "       [ 4,  5,  6,  7],\n",
       "       [ 8,  9, 10, 11],\n",
       "       [12, 13, 14, 15],\n",
       "       [16, 17, 18, 19]])"
      ]
     },
     "execution_count": 27,
     "metadata": {},
     "output_type": "execute_result"
    }
   ],
   "source": [
    "import numpy as np\n",
    "arr = np.arange(20).reshape(5,4)\n",
    "ABC = np.array(['A','A','B','C','C'])\n",
    "arr"
   ]
  },
  {
   "cell_type": "code",
   "execution_count": 30,
   "metadata": {},
   "outputs": [
    {
     "data": {
      "text/plain": [
       "array([[0, 1, 2, 3],\n",
       "       [4, 5, 6, 7]])"
      ]
     },
     "execution_count": 30,
     "metadata": {},
     "output_type": "execute_result"
    }
   ],
   "source": [
    "arr[ABC == 'A']"
   ]
  },
  {
   "cell_type": "code",
   "execution_count": 33,
   "metadata": {},
   "outputs": [
    {
     "data": {
      "text/plain": [
       "array([[0, 1],\n",
       "       [4, 5]])"
      ]
     },
     "execution_count": 33,
     "metadata": {},
     "output_type": "execute_result"
    }
   ],
   "source": [
    "arr[ABC == 'A', :2]"
   ]
  },
  {
   "cell_type": "code",
   "execution_count": 35,
   "metadata": {},
   "outputs": [
    {
     "data": {
      "text/plain": [
       "array([2, 6])"
      ]
     },
     "execution_count": 35,
     "metadata": {},
     "output_type": "execute_result"
    }
   ],
   "source": [
    "arr[ABC == 'A', 2]"
   ]
  },
  {
   "cell_type": "code",
   "execution_count": 37,
   "metadata": {},
   "outputs": [
    {
     "data": {
      "text/plain": [
       "array([[ 8,  9, 10, 11],\n",
       "       [12, 13, 14, 15],\n",
       "       [16, 17, 18, 19]])"
      ]
     },
     "execution_count": 37,
     "metadata": {},
     "output_type": "execute_result"
    }
   ],
   "source": [
    "arr[ABC != 'A']"
   ]
  },
  {
   "cell_type": "code",
   "execution_count": 40,
   "metadata": {},
   "outputs": [
    {
     "data": {
      "text/plain": [
       "array([[ 0,  1,  2,  3],\n",
       "       [ 4,  5,  6,  7],\n",
       "       [ 8,  9, 10, 11]])"
      ]
     },
     "execution_count": 40,
     "metadata": {},
     "output_type": "execute_result"
    }
   ],
   "source": [
    "arr[(ABC == 'A') | (ABC == 'B')]"
   ]
  },
  {
   "cell_type": "code",
   "execution_count": 42,
   "metadata": {},
   "outputs": [
    {
     "data": {
      "text/plain": [
       "array([[12, 13, 14, 15],\n",
       "       [16, 17, 18, 19]])"
      ]
     },
     "execution_count": 42,
     "metadata": {},
     "output_type": "execute_result"
    }
   ],
   "source": [
    "arr[(ABC != 'A') & (ABC == 'C')]"
   ]
  },
  {
   "cell_type": "code",
   "execution_count": 58,
   "metadata": {},
   "outputs": [
    {
     "data": {
      "text/plain": [
       "array([[ 0,  1,  2,  3],\n",
       "       [ 4,  5,  6,  7],\n",
       "       [10, 10, 10, 10],\n",
       "       [10, 10, 10, 10],\n",
       "       [10, 10, 10, 10]])"
      ]
     },
     "execution_count": 58,
     "metadata": {},
     "output_type": "execute_result"
    }
   ],
   "source": [
    "arr[arr.mean()<arr] = 10\n",
    "arr"
   ]
  },
  {
   "cell_type": "code",
   "execution_count": 72,
   "metadata": {},
   "outputs": [
    {
     "data": {
      "text/plain": [
       "array([[ 0,  2],\n",
       "       [10, 10]])"
      ]
     },
     "execution_count": 72,
     "metadata": {},
     "output_type": "execute_result"
    }
   ],
   "source": [
    "arr[[0,2]][:,[0,2]]"
   ]
  },
  {
   "cell_type": "code",
   "execution_count": 70,
   "metadata": {},
   "outputs": [
    {
     "data": {
      "text/plain": [
       "array([[ 0,  2],\n",
       "       [10, 10],\n",
       "       [10, 10]])"
      ]
     },
     "execution_count": 70,
     "metadata": {},
     "output_type": "execute_result"
    }
   ],
   "source": [
    "arr[[0, 2, 4]][:, [0, 2]]"
   ]
  }
 ],
 "metadata": {
  "kernelspec": {
   "display_name": "Python 3",
   "language": "python",
   "name": "python3"
  },
  "language_info": {
   "codemirror_mode": {
    "name": "ipython",
    "version": 3
   },
   "file_extension": ".py",
   "mimetype": "text/x-python",
   "name": "python",
   "nbconvert_exporter": "python",
   "pygments_lexer": "ipython3",
   "version": "3.6.4"
  }
 },
 "nbformat": 4,
 "nbformat_minor": 2
}
