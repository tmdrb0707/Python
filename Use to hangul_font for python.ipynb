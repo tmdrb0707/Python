{
 "cells": [
  {
   "cell_type": "markdown",
   "metadata": {},
   "source": [
    "#### 참고 : 해당 글은 Youtube 오늘코드 페이지를 운영하시는 corazzon님의 강의내용과 코드를 따라하며 학습한것입니다.\n",
    "\n",
    "##### URL : https://www.youtube.com/watch?v=S5N3LjhkcDs"
   ]
  },
  {
   "cell_type": "markdown",
   "metadata": {},
   "source": [
    "# Matplotlib 한글폰트 사용하기\n",
    "\n",
    "## 1. 필요한 패키지 가져오기"
   ]
  },
  {
   "cell_type": "code",
   "execution_count": 1,
   "metadata": {},
   "outputs": [],
   "source": [
    "# 그래프를 노트북 안에 그리기 위해 설정\n",
    "%matplotlib inline\n",
    "\n",
    "# 필요한 패키지와 라이브러리를 가져옴\n",
    "import matplotlib as mpl\n",
    "import matplotlib.pyplot as plt\n",
    "import matplotlib.font_manager as fm\n",
    "\n",
    "# 그래프에서 마이너스 폰트 깨지는 문제에 대한 대처\n",
    "mpl.rcParams['axes.unicode_minus'] = False\n"
   ]
  },
  {
   "cell_type": "markdown",
   "metadata": {},
   "source": [
    "## 2. 그래프를 그리기 위해 임의의 데이터 생성"
   ]
  },
  {
   "cell_type": "code",
   "execution_count": 2,
   "metadata": {},
   "outputs": [
    {
     "data": {
      "text/plain": [
       "array([ 81, 111, 186, 257, 280, 292, 336, 363, 382, 461, 475, 475, 498,\n",
       "       587, 635, 585, 603, 551, 458, 534, 445, 527, 559, 582, 591, 525,\n",
       "       582, 549, 592, 570, 610, 644, 664, 567, 497, 510, 544, 531, 460,\n",
       "       493, 417, 323, 285, 303, 289, 302, 235, 154, 181, 262], dtype=int32)"
      ]
     },
     "execution_count": 2,
     "metadata": {},
     "output_type": "execute_result"
    }
   ],
   "source": [
    "import numpy as np\n",
    "\n",
    "data = np.random.randint(-100, 100, 50).cumsum()\n",
    "data"
   ]
  },
  {
   "cell_type": "markdown",
   "metadata": {},
   "source": [
    "## 3. 기본 폰트(Default)로 지정되어있기 때문에 한글이 깨지는 현상 확인."
   ]
  },
  {
   "cell_type": "code",
   "execution_count": 3,
   "metadata": {},
   "outputs": [
    {
     "data": {
      "text/plain": [
       "Text(0.5,0,'시간(분)')"
      ]
     },
     "execution_count": 3,
     "metadata": {},
     "output_type": "execute_result"
    },
    {
     "data": {
      "image/png": "[encoded data removed]",
      "text/plain": [
       "<matplotlib.figure.Figure at 0x12c07df0d68>"
      ]
     },
     "metadata": {},
     "output_type": "display_data"
    }
   ],
   "source": [
    "plt.plot(range(50), data, 'r')\n",
    "mpl.rcParams['axes.unicode_minus'] = False\n",
    "plt.title('시간별 가격 추이')\n",
    "plt.ylabel('주식 가격')\n",
    "plt.xlabel('시간(분)')"
   ]
  },
  {
   "cell_type": "markdown",
   "metadata": {},
   "source": [
    "##  4. 폰트를 설정해 주기에 앞서 설치된 matplotlib의 버전과 위치정보를 확인"
   ]
  },
  {
   "cell_type": "code",
   "execution_count": 4,
   "metadata": {},
   "outputs": [
    {
     "name": "stdout",
     "output_type": "stream",
     "text": [
      "버전:  2.1.2\n",
      "설치 위치: C:\\Users\\DS-18-D3-001\\Anaconda3\\lib\\site-packages\\matplotlib\\__init__.py\n",
      "설정 위치: C:\\Users\\DS-18-D3-001\\.matplotlib\n",
      "캐시 위치: C:\\Users\\DS-18-D3-001\\.matplotlib\n"
     ]
    }
   ],
   "source": [
    "print('버전: ', mpl.__version__)\n",
    "print('설치 위치:', mpl.__file__)\n",
    "print('설정 위치:', mpl.get_configdir())\n",
    "print('캐시 위치:', mpl.get_cachedir())"
   ]
  },
  {
   "cell_type": "markdown",
   "metadata": {},
   "source": [
    "##  5. terminal을 이용하여 matplotlib의 위치를 확인"
   ]
  },
  {
   "cell_type": "code",
   "execution_count": 5,
   "metadata": {},
   "outputs": [
    {
     "name": "stdout",
     "output_type": "stream",
     "text": [
      "설정파일 위치:  C:\\Users\\DS-18-D3-001\\Anaconda3\\lib\\site-packages\\matplotlib\\mpl-data\\matplotlibrc\n"
     ]
    }
   ],
   "source": [
    "print('설정파일 위치: ', mpl.matplotlib_fname())"
   ]
  },
  {
   "cell_type": "markdown",
   "metadata": {},
   "source": [
    "## 6. 설치된 폰트 확인"
   ]
  },
  {
   "cell_type": "code",
   "execution_count": 6,
   "metadata": {},
   "outputs": [
    {
     "name": "stdout",
     "output_type": "stream",
     "text": [
      "1043\n"
     ]
    }
   ],
   "source": [
    "font_list = fm.findSystemFonts(fontpaths=None, fontext='ttf')\n",
    "\n",
    "# 설치된 ttf 폰트 전체갯수\n",
    "print(len(font_list))"
   ]
  },
  {
   "cell_type": "code",
   "execution_count": 7,
   "metadata": {},
   "outputs": [
    {
     "data": {
      "text/plain": [
       "['c:\\\\windows\\\\fonts\\\\hanbatangb.ttf',\n",
       " 'c:\\\\windows\\\\fonts\\\\courbi.ttf',\n",
       " 'C:\\\\WINDOWS\\\\Fonts\\\\BMHANNA_11yrs_ttf.ttf',\n",
       " 'C:\\\\WINDOWS\\\\Fonts\\\\GILBI___.TTF',\n",
       " 'C:\\\\WINDOWS\\\\Fonts\\\\pala.ttf',\n",
       " 'c:\\\\windows\\\\fonts\\\\maian.ttf',\n",
       " 'C:\\\\WINDOWS\\\\Fonts\\\\FRAHVIT.TTF',\n",
       " 'c:\\\\windows\\\\fonts\\\\lsansd.ttf',\n",
       " 'c:\\\\windows\\\\fonts\\\\encr10b.ttf',\n",
       " 'c:\\\\windows\\\\fonts\\\\hysnrl.ttf']"
      ]
     },
     "execution_count": 7,
     "metadata": {},
     "output_type": "execute_result"
    }
   ],
   "source": [
    "# 시스템 폰트에서 읽어온 리스트의 상위 10개 출력\n",
    "\n",
    "font_list[:10]"
   ]
  },
  {
   "cell_type": "code",
   "execution_count": 8,
   "metadata": {
    "scrolled": true
   },
   "outputs": [
    {
     "data": {
      "text/plain": [
       "['cmsy10',\n",
       " 'DejaVu Sans Mono',\n",
       " 'DejaVu Serif',\n",
       " 'STIXSizeOneSym',\n",
       " 'STIXSizeThreeSym',\n",
       " 'cmmi10',\n",
       " 'STIXSizeThreeSym',\n",
       " 'DejaVu Sans',\n",
       " 'DejaVu Sans Mono',\n",
       " 'DejaVu Serif Display']"
      ]
     },
     "execution_count": 8,
     "metadata": {},
     "output_type": "execute_result"
    }
   ],
   "source": [
    "# 10개의 폰트명 출력\n",
    "\n",
    "f = [f.name for f in fm.fontManager.ttflist]\n",
    "f[:10]"
   ]
  },
  {
   "cell_type": "markdown",
   "metadata": {},
   "source": [
    "## 7. 나눔고딕을 사용할 것이므로 이름에 'Nanum'이 들어간 폰트만 가져옴."
   ]
  },
  {
   "cell_type": "code",
   "execution_count": 9,
   "metadata": {},
   "outputs": [
    {
     "data": {
      "text/plain": [
       "[('NanumGothic', 'C:\\\\WINDOWS\\\\Fonts\\\\\\x7f\\x7f\\x7f\\x7fBOLD.TTF'),\n",
       " ('Nanum Pen Script', 'c:\\\\windows\\\\fonts\\\\nanumpen.ttf'),\n",
       " ('Nanum Brush Script', 'C:\\\\WINDOWS\\\\Fonts\\\\NanumBrush.ttf'),\n",
       " ('NanumGothic', 'C:\\\\WINDOWS\\\\Fonts\\\\NanumGothic.ttf'),\n",
       " ('NanumMyeongjo', 'C:\\\\WINDOWS\\\\Fonts\\\\NanumMyeongjo.ttf'),\n",
       " ('NanumGothic', 'c:\\\\windows\\\\fonts\\\\\\x7f\\x7f\\x7f\\x7fbold.ttf'),\n",
       " ('NanumMyeongjo', 'c:\\\\windows\\\\fonts\\\\nanummyeongjoextrabold.ttf'),\n",
       " ('Nanum Brush Script', 'c:\\\\windows\\\\fonts\\\\nanumbrush.ttf'),\n",
       " ('NanumGothic', 'c:\\\\windows\\\\fonts\\\\\\x7f\\x7f\\x7f\\x7f.ttf'),\n",
       " ('NanumGothic', 'c:\\\\windows\\\\fonts\\\\\\x7f\\x7f\\x7f\\x7fextrabold.ttf'),\n",
       " ('NanumGothic', 'c:\\\\windows\\\\fonts\\\\nanumgothic.ttf'),\n",
       " ('NanumGothic', 'C:\\\\WINDOWS\\\\Fonts\\\\NanumGothicBold.ttf'),\n",
       " ('NanumMyeongjo', 'c:\\\\windows\\\\fonts\\\\nanummyeongjo.ttf'),\n",
       " ('Nanum Pen Script', 'C:\\\\WINDOWS\\\\Fonts\\\\NanumPen.ttf'),\n",
       " ('NanumMyeongjo', 'c:\\\\windows\\\\fonts\\\\nanummyeongjobold.ttf'),\n",
       " ('NanumGothic', 'c:\\\\windows\\\\fonts\\\\nanumgothicbold.ttf'),\n",
       " ('NanumMyeongjo', 'C:\\\\WINDOWS\\\\Fonts\\\\NanumMyeongjoBold.ttf'),\n",
       " ('NanumGothic', 'c:\\\\windows\\\\fonts\\\\nanumgothicextrabold.ttf'),\n",
       " ('NanumMyeongjo', 'C:\\\\WINDOWS\\\\Fonts\\\\NanumMyeongjoExtraBold.ttf'),\n",
       " ('NanumGothic', 'C:\\\\WINDOWS\\\\Fonts\\\\\\x7f\\x7f\\x7f\\x7fEXTRABOLD.TTF'),\n",
       " ('NanumGothic', 'C:\\\\WINDOWS\\\\Fonts\\\\NanumGothicExtraBold.ttf'),\n",
       " ('NanumGothic', 'C:\\\\WINDOWS\\\\Fonts\\\\\\x7f\\x7f\\x7f\\x7f.TTF')]"
      ]
     },
     "execution_count": 9,
     "metadata": {},
     "output_type": "execute_result"
    }
   ],
   "source": [
    "[(f.name, f.fname) for f in fm.fontManager.ttflist if 'Nanum' in f.name]"
   ]
  },
  {
   "cell_type": "markdown",
   "metadata": {},
   "source": [
    "## 8. 폰트 사용의 3가지 방법\n",
    "\n",
    "    1) FontProperties를 사용 - 그래프의 폰트가 필요한 항목에 지정하여 사용\n",
    "    2) matplotlib.rcParams[]로 전역글꼴 설정 - 그래프에 설정을 해주어 폰트가 필요한 항목에 적용\n",
    "    3) mpl.matplotlib_fname()로 읽어지는 설정 파일에 직접 기입 - 모든 노트북에 적용"
   ]
  },
  {
   "cell_type": "markdown",
   "metadata": {},
   "source": [
    "### 1) FontProperties 사용 방법"
   ]
  },
  {
   "cell_type": "code",
   "execution_count": 10,
   "metadata": {},
   "outputs": [
    {
     "data": {
      "image/png": "[encoded data removed]",
      "text/plain": [
       "<matplotlib.figure.Figure at 0x12c080b8eb8>"
      ]
     },
     "metadata": {},
     "output_type": "display_data"
    }
   ],
   "source": [
    "# fname 옵션을 사용하는 방법\n",
    "path = 'c:/windows/fonts/nanumgothic.ttf'\n",
    "fontprop = fm.FontProperties(fname = path, size = 18)\n",
    "\n",
    "plt.plot(range(50), data, 'r')\n",
    "plt.title('시간별 가격 추이', fontproperties = fontprop)\n",
    "plt.ylabel('주식 가격', fontproperties = fontprop)\n",
    "plt.xlabel('시간(분)', fontproperties = fontprop)\n",
    "plt.show()"
   ]
  },
  {
   "cell_type": "markdown",
   "metadata": {},
   "source": [
    "### 2) matplotlib.rcParams을 사용하여 전역글꼴 설정"
   ]
  },
  {
   "cell_type": "code",
   "execution_count": 11,
   "metadata": {},
   "outputs": [
    {
     "name": "stdout",
     "output_type": "stream",
     "text": [
      "# 설정 되어있는 폰트 사이즈\n",
      "10.0\n",
      "# 설정 되어있는 폰트 글꼴\n",
      "['sans-serif']\n"
     ]
    }
   ],
   "source": [
    "import matplotlib.pyplot as plt\n",
    "\n",
    "# size, famliy\n",
    "\n",
    "print('# 설정 되어있는 폰트 사이즈')\n",
    "print(plt.rcParams['font.size'])\n",
    "print('# 설정 되어있는 폰트 글꼴')\n",
    "print(plt.rcParams['font.family'])"
   ]
  },
  {
   "cell_type": "code",
   "execution_count": 12,
   "metadata": {},
   "outputs": [
    {
     "name": "stdout",
     "output_type": "stream",
     "text": [
      "serif 세리프가 있는 폰트----------\n",
      "['DejaVu Serif', 'Bitstream Vera Serif', 'Computer Modern Roman', 'New Century Schoolbook', 'Century Schoolbook L', 'Utopia', 'ITC Bookman', 'Bookman', 'Nimbus Roman No9 L', 'Times New Roman', 'Times', 'Palatino', 'Charter', 'serif']\n",
      "sans-serif 세리프가 없는 폰트----------\n",
      "['DejaVu Sans', 'Bitstream Vera Sans', 'Computer Modern Sans Serif', 'Lucida Grande', 'Verdana', 'Geneva', 'Lucid', 'Arial', 'Helvetica', 'Avant Garde', 'sans-serif']\n",
      "monospace 고정폭 글꼴----------\n",
      "['DejaVu Sans Mono', 'Bitstream Vera Sans Mono', 'Computer Modern Typewriter', 'Andale Mono', 'Nimbus Mono L', 'Courier New', 'Courier', 'Fixed', 'Terminal', 'monospace']\n"
     ]
    }
   ],
   "source": [
    "# serif, sans-serif, monospace\n",
    "\n",
    "print('serif 세리프가 있는 폰트----------')\n",
    "print(plt.rcParams['font.serif'])\n",
    "print('sans-serif 세리프가 없는 폰트----------')\n",
    "print(plt.rcParams['font.sans-serif'])\n",
    "print('monospace 고정폭 글꼴----------')\n",
    "print(plt.rcParams['font.monospace'])"
   ]
  },
  {
   "cell_type": "code",
   "execution_count": 13,
   "metadata": {},
   "outputs": [],
   "source": [
    "plt.rcParams['font.family'] = 'Nanum Pen Script' #fname을 입력\n",
    "plt.rcParams['font.size'] = 20\n",
    "plt.rcParams['figure.figsize'] = (14,4)"
   ]
  },
  {
   "cell_type": "code",
   "execution_count": 14,
   "metadata": {},
   "outputs": [
    {
     "data": {
      "image/png": "[encoded data removed]",
      "text/plain": [
       "<matplotlib.figure.Figure at 0x12c0819f390>"
      ]
     },
     "metadata": {},
     "output_type": "display_data"
    }
   ],
   "source": [
    "plt.plot(range(50), data, 'r')\n",
    "plt.title('시간별 가격 추이')\n",
    "plt.ylabel('주식 가격')\n",
    "plt.xlabel('시간(분)')\n",
    "plt.style.use('seaborn-pastel')\n",
    "plt.show()"
   ]
  },
  {
   "cell_type": "markdown",
   "metadata": {},
   "source": [
    "### rcParams를 설정파일에 직접 입력 - 모든 노트북에 공통적용"
   ]
  },
  {
   "cell_type": "code",
   "execution_count": 15,
   "metadata": {},
   "outputs": [
    {
     "name": "stdout",
     "output_type": "stream",
     "text": [
      "설정파일 위치:  C:\\Users\\DS-18-D3-001\\Anaconda3\\lib\\site-packages\\matplotlib\\mpl-data\\matplotlibrc\n"
     ]
    }
   ],
   "source": [
    "print('설정파일 위치: ', mpl.matplotlib_fname())"
   ]
  },
  {
   "cell_type": "code",
   "execution_count": 16,
   "metadata": {},
   "outputs": [
    {
     "data": {
      "image/png": "[encoded data removed]",
      "text/plain": [
       "<matplotlib.figure.Figure at 0x12c081d0f60>"
      ]
     },
     "metadata": {},
     "output_type": "display_data"
    }
   ],
   "source": [
    "# import matplotlib.pyplot as plt\n",
    "# import numpy as np\n",
    "\n",
    "fig, ax = plt.subplots()\n",
    "ax.plot(10*np.random.randn(100), 10*np.random.randn(100),'o')\n",
    "ax.set_title('숫자 분포도 보기')\n",
    "plt.show()"
   ]
  }
 ],
 "metadata": {
  "kernelspec": {
   "display_name": "Python 3",
   "language": "python",
   "name": "python3"
  },
  "language_info": {
   "codemirror_mode": {
    "name": "ipython",
    "version": 3
   },
   "file_extension": ".py",
   "mimetype": "text/x-python",
   "name": "python",
   "nbconvert_exporter": "python",
   "pygments_lexer": "ipython3",
   "version": "3.6.4"
  }
 },
 "nbformat": 4,
 "nbformat_minor": 2
}
